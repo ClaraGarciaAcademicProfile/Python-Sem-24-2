{
  "nbformat": 4,
  "nbformat_minor": 0,
  "metadata": {
    "colab": {
      "provenance": []
    },
    "kernelspec": {
      "name": "python3",
      "display_name": "Python 3"
    },
    "language_info": {
      "name": "python"
    }
  },
  "cells": [
    {
      "cell_type": "markdown",
      "metadata": {
        "id": "view-in-github"
      },
      "source": [
        "<a href=\"https://colab.research.google.com/github/lidjud/Python-Sem-24-2/blob/main/Ejercicio_1.ipynb\" target=\"_parent\"><img src=\"https://colab.research.google.com/assets/colab-badge.svg\" alt=\"Open In Colab\"/></a>"
      ]
    },
    {
      "cell_type": "markdown",
      "source": [
        "# Autor: Tu nombre https://github.com/nombre\n",
        "\n",
        " * **EJERCICIO**:\n",
        " * 1. Crea un comentario en el código y coloca la URL del sitio web oficial del\n",
        " *   lenguaje de programación que has seleccionado.\n",
        " * 2. Representa las diferentes sintaxis que existen de crear comentarios\n",
        " *   en el lenguaje (en una línea, varias...).\n",
        " * 3. Crea una variable (y una constante si el lenguaje lo soporta).\n",
        " * 4. Crea variables representando todos los tipos de datos primitivos\n",
        " *   del lenguaje (cadenas de texto, enteros, booleanos...).\n",
        " * 5. Imprime por terminal el texto: \"¡Hola, [y el nombre de tu lenguaje]!\"\n"
      ],
      "metadata": {
        "id": "UyUKl4qkecWK"
      }
    },
    {
      "cell_type": "markdown",
      "source": [
        "1.  Crea un comentario en el código y coloca la URL del sitio web oficial del\n",
        "lenguaje de programación que has seleccionado."
      ],
      "metadata": {
        "id": "SS52uuqF_YDX"
      }
    },
    {
      "cell_type": "code",
      "source": [
        "# Esto es un comentario de línea única\n",
        "# URL https://www.w3schools.com/python/python_comments.asp\n",
        "# URL https://www.freecodecamp.org/news/python-comment-block-how-to-comment-out-code-in-python/\n",
        "\n",
        "# Este es un comentario\n",
        "# escrito en\n",
        "# mas de una linea"
      ],
      "metadata": {
        "id": "DEqUcTPKeqOg"
      },
      "execution_count": 9,
      "outputs": []
    },
    {
      "cell_type": "markdown",
      "source": [
        "2. Representa las diferentes sintaxis que existen de crear comentarios\n",
        "en el lenguaje (en una línea, varias...)."
      ],
      "metadata": {
        "id": "jqCpCDwwBYMB"
      }
    },
    {
      "cell_type": "code",
      "source": [
        "'''\n",
        "Este es un comentario\n",
        "escrito en\n",
        "mas de una linea\n",
        "'''\n",
        "#The code below prints Hello World! to the console\n",
        "print(\"Hello World!\")\n",
        "\n",
        "# print(\"Hello World!\")\n",
        "print(\"Happy coding!\")\n",
        "\n",
        "print(\"Hello world\") # Prints Hello World"
      ],
      "metadata": {
        "id": "QkhBADsuBj77"
      },
      "execution_count": null,
      "outputs": []
    },
    {
      "cell_type": "markdown",
      "source": [
        "3. Crea una variable (y una constante si el lenguaje lo soporta)."
      ],
      "metadata": {
        "id": "Dc2LIOb1BxWQ"
      }
    },
    {
      "cell_type": "code",
      "source": [
        "totalFiles = 384938 # len(files)\n",
        "trainCount = round(totalFiles * 0.7)\n",
        "valCount = round(totalFiles * 0.2)\n",
        "testCount = totalFiles - trainCount - valCount\n",
        "print((f\"train files: {trainCount}\"))\n",
        "print((f\"validation files: {valCount}\"))\n",
        "print((f\"test files: {testCount}\"))\n",
        "\n",
        "# en caso de entrenar un modelo de IA, se cuentan los archivos de una carpeta con len. El 70% sirven para entrenar, 20% para validar entrenamiento, y 10% para testear"
      ],
      "metadata": {
        "colab": {
          "base_uri": "https://localhost:8080/"
        },
        "id": "yHDPNCZMFGFO",
        "outputId": "e57aafc8-aea9-404d-d577-b5803c2da13f"
      },
      "execution_count": 22,
      "outputs": [
        {
          "output_type": "stream",
          "name": "stdout",
          "text": [
            "train files: 269457\n",
            "validation files: 76988\n",
            "test files: 38493\n"
          ]
        }
      ]
    },
    {
      "cell_type": "markdown",
      "source": [
        "4.  Crea variables representando todos los tipos de datos primitivos\n",
        "del lenguaje (cadenas de texto, enteros, booleanos...)."
      ],
      "metadata": {
        "id": "G9LMXOx6FGYm"
      }
    },
    {
      "cell_type": "code",
      "source": [
        "# Long string\n",
        "long_string = '''\n",
        "wow\n",
        "O  O\n",
        "----\n",
        "'''\n",
        "\n",
        "print(\"string: \" + long_string)\n",
        "\n",
        "selfish = 'me me me'\n",
        "print('elemento 0 del arreglo / lista: ' + selfish[0])\n",
        "\n",
        "is_cool = False\n",
        "bool(1)\n",
        "bool('True')\n",
        "type(is_cool)\n",
        "\n",
        "birth_year = int(input(\"what year were you born\"))\n",
        "age = 2024 - birth_year\n",
        "print(f'your age is: {age}')\n",
        "type(age)\n",
        "\n",
        "float(age)\n"
      ],
      "metadata": {
        "colab": {
          "base_uri": "https://localhost:8080/"
        },
        "id": "MWo2pZj8Bwq1",
        "outputId": "a48d782f-8413-439e-a4bf-40c437648fb4"
      },
      "execution_count": 19,
      "outputs": [
        {
          "output_type": "stream",
          "name": "stdout",
          "text": [
            "string: \n",
            "wow\n",
            "O  O\n",
            "----\n",
            "\n",
            "elemento 0 del arreglo / lista: m\n",
            "what year were you born2001\n",
            "your age is: 23\n"
          ]
        },
        {
          "output_type": "execute_result",
          "data": {
            "text/plain": [
              "23.0"
            ]
          },
          "metadata": {},
          "execution_count": 19
        }
      ]
    },
    {
      "cell_type": "markdown",
      "source": [
        "5. Imprime por terminal el texto: \"¡Hola, [y el nombre de tu lenguaje]!\""
      ],
      "metadata": {
        "id": "20242OLuFP1Y"
      }
    },
    {
      "cell_type": "code",
      "source": [
        "lenguaje_programacion = input(\"¿Que lenguaje empleas? \")\n",
        "print(f\"¡Hola, {lenguaje_programacion}!\")"
      ],
      "metadata": {
        "colab": {
          "base_uri": "https://localhost:8080/"
        },
        "id": "pN8p5eXmFBHZ",
        "outputId": "265de24e-3f56-4ca8-b051-a152c1e66b2f"
      },
      "execution_count": 20,
      "outputs": [
        {
          "output_type": "stream",
          "name": "stdout",
          "text": [
            "¿Que lenguaje empleas? python\n",
            "¡Hola, python!\n"
          ]
        }
      ]
    }
  ]
}