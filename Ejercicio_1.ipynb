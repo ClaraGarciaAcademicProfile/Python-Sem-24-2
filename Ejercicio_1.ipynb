{
  "nbformat": 4,
  "nbformat_minor": 0,
  "metadata": {
    "colab": {
      "provenance": [],
      "authorship_tag": "ABX9TyPavtAfhz4hIrWnzO2QFzAB",
      "include_colab_link": true
    },
    "kernelspec": {
      "name": "python3",
      "display_name": "Python 3"
    },
    "language_info": {
      "name": "python"
    }
  },
  "cells": [
    {
      "cell_type": "markdown",
      "metadata": {
        "id": "view-in-github",
        "colab_type": "text"
      },
      "source": [
        "<a href=\"https://colab.research.google.com/github/lidjud/Python-Sem-24-2/blob/main/Ejercicio_1.ipynb\" target=\"_parent\"><img src=\"https://colab.research.google.com/assets/colab-badge.svg\" alt=\"Open In Colab\"/></a>"
      ]
    },
    {
      "cell_type": "markdown",
      "source": [
        "# Autor: Tu nombre https://github.com/nombre\n",
        "\n",
        " * **EJERCICIO**:\n",
        " * 1. Crea un comentario en el código y coloca la URL del sitio web oficial del\n",
        " *   lenguaje de programación que has seleccionado.\n",
        " * 2. Representa las diferentes sintaxis que existen de crear comentarios\n",
        " *   en el lenguaje (en una línea, varias...).\n",
        " * 3. Crea una variable (y una constante si el lenguaje lo soporta).\n",
        " * 4. Crea variables representando todos los tipos de datos primitivos\n",
        " *   del lenguaje (cadenas de texto, enteros, booleanos...).\n",
        " * 5. Imprime por terminal el texto: \"¡Hola, [y el nombre de tu lenguaje]!\"\n"
      ],
      "metadata": {
        "id": "UyUKl4qkecWK"
      }
    },
    {
      "cell_type": "code",
      "source": [],
      "metadata": {
        "id": "DEqUcTPKeqOg"
      },
      "execution_count": null,
      "outputs": []
    }
  ]
}